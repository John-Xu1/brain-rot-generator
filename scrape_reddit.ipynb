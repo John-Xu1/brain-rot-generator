{
 "cells": [
  {
   "cell_type": "markdown",
   "metadata": {},
   "source": [
    "# Scrape Reddit"
   ]
  },
  {
   "cell_type": "code",
   "execution_count": 6,
   "metadata": {},
   "outputs": [
    {
     "name": "stderr",
     "output_type": "stream",
     "text": [
      "/var/folders/14/0z5vb_mn3ps_kxllsnyly_100000gn/T/ipykernel_67833/438926686.py:12: DeprecationWarning: Positional arguments for 'BaseListingMixin.top' will no longer be supported in PRAW 8.\n",
      "Call this function with 'time_filter' as a keyword argument.\n",
      "  for post in aita.top(\"day\", limit=5):\n"
     ]
    },
    {
     "data": {
      "text/plain": [
       "[Submission(id='1hda8ay'),\n",
       " Submission(id='1hcz80h'),\n",
       " Submission(id='1hcz7v3'),\n",
       " Submission(id='1hdfbsb'),\n",
       " Submission(id='1hd6dbe')]"
      ]
     },
     "execution_count": 6,
     "metadata": {},
     "output_type": "execute_result"
    }
   ],
   "source": [
    "import praw\n",
    "import dotenv\n",
    "import os\n",
    "\n",
    "dotenv.load_dotenv()\n",
    "reddit = praw.Reddit(\n",
    "    client_id=os.getenv(\"REDDIT_CLIENT_ID\"),\n",
    "    client_secret=os.getenv(\"REDDIT_CLIENT_SECRET\"),\n",
    "    user_agent=os.getenv(\"REDDIT_USERNAME\"),\n",
    ")\n",
    "\n",
    "aita = reddit.subreddit(\"AmItheAsshole\")\n",
    "stories = []\n",
    "\n",
    "for post in aita.top(\"day\", limit=5):\n",
    "    stories.append(post)\n",
    "\n",
    "stories\n"
   ]
  },
  {
   "cell_type": "code",
   "execution_count": 7,
   "metadata": {},
   "outputs": [
    {
     "name": "stdout",
     "output_type": "stream",
     "text": [
      "AITA for not telling a man that the research he was mansplaining to me was my own? \n",
      "I don't normally post on reddit so please forgive me if I do this wrong. \n",
      "\n",
      "I (33f) work in a very small, technical, specific, male dominated field. I won't give too much information on it as I think you could easily find my identity if I did, but let's just say it's a sub category of law. \n",
      "\n",
      "I graduated 9 years ago (for anyone wondering, the system in my country is different than in the US so I only studied for 5 years), and am now a lawyer as well as a researcher. I published some work here and there but nothing too major, and no one outside of that field knows my work. \n",
      "\n",
      "Yesterday I went to a bar with a couple of friends who introduced me to one of their friends who works in the same field as me. I was pretty excited to meet him because it's rare to meet people who work in that field. He doesn't exactly do the same thing as I do, he's not a lawyer but a legal advisor, but we work on the same topics. So naturally we started talking about our work. \n",
      "\n",
      "At one point we were discussing a point on which we had different opinions, so I explained mine to him and he replied by saying that my opinion was based on nothing while his was based on the work of a professional (you guessed it, me). He basically started explaining my work to me, but in a completely wrong way and missed all of my points. I asked him if he was sure that that was what the author meant and he said that he was because it was \"pretty simple actually\". For another good 20 minutes he explained all of it to me in details, like I was a first year law student. I didn't say anything because it was pretty funny to watch him say things that were completely wrong with so much confidence. \n",
      "\n",
      "After that the topic changed and the night went on, but at the end of the night right before leaving I decided to tell him that I was actually the person that wrote the work he had quoted, and that he hadn't really understood it. He reacted very badly and got angry, and he told me that I had manipulated him to humiliate him. He yelled at me for not saying it was my work at the beginning. I simply replied that he had embarrassed himself and left. \n",
      "\n",
      "I woke up this morning to texts from my friends saying I was wrong for causing drama and tension and that I could've been nicer to their friend. I'm not sure if I'm in the wrong there. I mean yes, I could've told him right away, but is it that big of a deal that I didn't? I'm not exactly sure. AITA? \n",
      "\n",
      "Edit: I forgot to make this clear and maybe it's a bit of a misunderstanding, but both conversations happened only between the two of us. We were the only ones talking about our work and our friends also weren't really there when I told him that I was the author. So it's not like I publicly humiliated him. The only thing \"embarrassing\" for him here is that a woman seemed smarter than him, and I think that's what ge had an issue with.\n",
      "\n",
      "Edit 2: I've seen some comments claiming that this post was fake because \"that just doesn't happen\", \"i've seen many other stories where the same thing happens\", \"that's not realistic\". I'm not trying to justify anything because I don't really care, but I just find it funny to see lots of comments from women sharing similar stories and then lots of comments from men saying it doesn't happen. \n",
      "\n",
      "\n",
      "\n",
      "\n",
      "AITA for not contributing to staff gifts and calling out my colleague for taking full credit?\n",
      "So, here's the deal: Every year since I (29F) started at this job (office job), there is one person (F56) that arranges an annual \"Staff Christmas gift\", where they ask everyone to contribute $30 total per person towards gifts for the 3 top executives.\n",
      "\n",
      "In the last two years that we've done this, the 3 people in management who have been given the gifts have come down to our office and thanked that one person (F56) profusely for her generosity and how sweet she was to do this etc.. Last year, I asked her if she gave something from just her as well and if that was why they thanked only her? She said no, but since she was the one who handed the gift basket to them and wrote the card (there were 3 others inc. me who built the actual baskets, she just insisted on doing the card), they maybe misunderstood (note that she always does this first thing in the morning and will take the basket from our office and go up by herself regardless if people say they'd like to join her, and just say she \"forgot\" they wanted to come with)...\n",
      "\n",
      "Well, I checked with one of the assistants because I am petty. The assistant told me that while the card said that it was from the staff, it did say \"*name of the lady* and the rest of the staff\", and that the same thing had happened the year before.\n",
      "\n",
      "At the time, I did not say anything and just made a note of it for this year.\n",
      "\n",
      "Now, here's where I may have been a bit of an AH: This year, this lady once again sent out an email asking everyone to contribute a minimum of $30/per person for these 3 people. One of the owners retired earlier in the year, but she felt he'd still really appreciate a gift. I answered the email and said: \"Dear *name*, thank you for reaching out regarding this. I have given a lot of thought to this throughout the year, and have decided to organize my own gift this year instead with a smaller amount as it’s been a tough year financially for me and many others. Perhaps you can edit last year's card to say: \"Love from *her name* and the rest of the staff, except for *my name*? Thank you, and happy holidays!\"\n",
      "\n",
      "About 5 minutes after I sent the email, she came storming over and told me that I had no right to accuse her of taking credit for the gifts and not including everyone's name. I asked if it was untrue that that's what her card said last year - to which she answered that that's how she's always written the card. Apparently, she's currently scrambling, because a lot of other staff members are choosing not to join her gift this year, and her friend (F60) has told me that it was super petty and \"not very much in the spirit of Christmas of me to ruin the gift to management this year\" while grumbling about how selfish I and other younger staff members are who don't want to contribute to the gift.\n",
      "\n",
      "So Reddit, am I the asshole in this situation?\n",
      "\n",
      "Edit to add: Clarification that the minimum sum was $10 per gift, which is $30 in total for each staff-member, sorry if that was unclear (english is not my first language as much as I feel like I’m fluent, haha). Also: Thank you to everyone who answered so far, I definitely did not realize this was not common practice as I was told it was!\n",
      "\n",
      "\n",
      "\n",
      "\n",
      "AITA for going off on my sister's (9mo) foster mom after she celebrated the fact that she's now am orphan? (14F)\n",
      "For context, I raised most of my 6 siblings, and we all got put into foster care in Oct. Back at the very start of Nov, my youngest 2 siblings were placed with them. The visits were every other week at the start, and at the first one I  showed up having not seen them in two weeks. When they arrived the youngest of the 2 (9 months now), was asleep in her car seat. She insisted that I shouldn't wake her, despite only having an hour. I woke her up to interact and the three of us just read books together on the chair, just general interaction; no fussing or anything happening but she was glaring at me the whole time. A few days later, on an unmandated visit the 9mo shows up asleep again. I wake her up, all 7 of us hang out, and then I give her back.\n",
      "\n",
      "Two hours after returning home she messages the foster family I was with at the time and makes them talk to me about not waking up the baby. I told them she could go to hell. That night I texted her about how she would never be my sisters' mother. I deleted it and apologized the morning after, but it was pretty nasty and 6 paragraphs.\n",
      "\n",
      "Fast forward a little bit and my mother ends up committing su!c!de. Because of this, we were granted weekly visits instead. Days after, we had a visit and this woman was ecstatic. My siblings and I were there, the older few of us just dumbfounded by all that's happened and there she was smiling. This time she came with the baby in a carrier, so I couldn't really just take her out. After 10 minutes I went up and asked to hold her. She replied that I couldn't right now, despite that fact that the baby was awake. I asked her at 4 times before the visit ended.\n",
      "\n",
      "I managed to not lose it, but on the next visit she shows up gushing to all the other foster parents about how she and her husband are so lucky to get orphans on only her third placement. I didn’t day anything but that ticked me off. I had just switched my own placements and my foster moms didn't know about the previous incident. During yesterday’s visit She kept talking the same way, saying things like \"Its sad she died and all, but you know, I've always wanted to have kids\" and \"Its so nice to adopt babies, you know? That way they're not all messed up and disobedient later on. Especially when you won't have to deal with their bio parents.\" I don't know if its just me, but that in combination with everything leading up to it just set it OFF.\n",
      "\n",
      "At the end of the visit when it was just my 9 year old brother, me, my foster moms, my brother's foster mom, and her, (her husband took the kids to the car while she was hanging back to talk a minute longer with the other moms) I did not hold back, screaming at her for a good four or five minutes about: She isn't a saint, To never mention my parents like that, She will never be a real mom to my siblings and just generally fuck you. She looked genuinely upset and today my therapist suggested that I might have blown it out of proportion because of pent-up anger from other things.\n",
      "\n",
      "\n",
      "\n",
      "\n",
      "\n",
      "\n",
      "AITA for not supporting my sister while she figures out her sexuality?\n",
      "for context i (18f) have been out to my whole family as a lesbian since i was 13 but came out to my sister (21f) before everyone else. i've always looked up to her a lot and wanted her to like me, but she's always looked down on me and nothing i ever did seemed to be good enough for her, our relationship has slowly deteriorated through the years and she grew further apart from me while i still tried to cling onto her.\n",
      "\n",
      "so when i came out to her and she was super dismissive and not at all supportive it really stung, it felt like the final breaking point in our relationship, especially because i gave her several other chances to take back the things she said to me over the next three years and she stood by it, and i confronted her several times and she kept insisting she did nothing wrong and refused to apologise, eventually i gave up.\n",
      "\n",
      "additionally, i've stuggled heavily with my mental health throughout most of my life and she also never supported me in that, and when it was getting really bad she actually called me crazy, and again, when confronted she claimed she was justified and did nothing wrong.\n",
      "\n",
      "recently, however, she confided to me that she's never felt real romantic or sexual attraction to anyone in her life and she didn't know what was wrong with her, so i suggested that she could be aroace, because i know how hard and confusing it is having to figure out your sexuality on your own. she did some research on it and came back to me a couple weeks later and said that it sounded a lot like her and she tried to initiate a whole conversation about it.\n",
      "\n",
      "she was staring to get all teary and venting about her experiences and stuff and i cut her off. i told her i was willing to help her figure herself out because i knew what it was like, but that i wasn't going to support her emotionally. she got a bit upset about this and told me i was being selfish, but i didn't budge. AITA?\n",
      "\n",
      "\n",
      "\n",
      "\n",
      "AITA for putting up a \"Do not clean.\" sign in English and Spanish for cleaners that were coming to the house whose racial and cultural identity I was not made aware of?\n",
      "I live in south Florida, which across the board of general people and workers has a large percentage of Spanish speakers. I live with my father and he had informed me that there were cleaners coming by tomorrow that would be going room to room tasked with cleaning the whole house, I had no prior knowledge given to me about the business, workers, etc. and we have had plenty of cleaners and general workers in the past who were and were not Hispanic. My room was not to be cleaned in the job, so I put up a little paper sign on my door saying \"Do not clean\" and the same in Spanish which I had specifically verified as proper because google translate tends to mess up.\n",
      "\n",
      "I met the cleaners briefly and treated them politely and respectfully and they spoke no word of the sign nor did they have any seeming issue with me. But then I get informed by my father the next day that the boss of the cleaning service business had called him and accused the sign of being racist because I had assumed cleaners would speak Spanish. I won't be hanging any more signs because of this incident but I fail to see how this applies, sure if the Spanish part of the sign was present in an area where Spanish is rarely found, I could see it as possibly assuming. However as previously mentioned, I had no information on the workers at all and we have had people working in the house before that did not speak English but did in fact speak Spanish.\n",
      "\n",
      "If it matters, the boss and workers were white and Portuguese.\n",
      "\n",
      "\n",
      "\n",
      "\n"
     ]
    }
   ],
   "source": [
    "for story in stories:\n",
    "    print(story.title)\n",
    "    print(story.selftext)\n",
    "    print('\\n\\n\\n')"
   ]
  }
 ],
 "metadata": {
  "kernelspec": {
   "display_name": ".venv",
   "language": "python",
   "name": "python3"
  },
  "language_info": {
   "codemirror_mode": {
    "name": "ipython",
    "version": 3
   },
   "file_extension": ".py",
   "mimetype": "text/x-python",
   "name": "python",
   "nbconvert_exporter": "python",
   "pygments_lexer": "ipython3",
   "version": "3.12.4"
  }
 },
 "nbformat": 4,
 "nbformat_minor": 2
}
