{
 "cells": [
  {
   "cell_type": "code",
   "execution_count": 6,
   "metadata": {},
   "outputs": [],
   "source": [
    "from gtts import gTTS\n",
    "\n",
    "def text_to_speech(text, lang='en'):\n",
    "    tts = gTTS(text=text, lang=lang)\n",
    "    tts.save(\"output.mp3\")"
   ]
  },
  {
   "cell_type": "code",
   "execution_count": 11,
   "metadata": {},
   "outputs": [],
   "source": [
    "text_to_speech(\"\"\" I don't normally post on reddit so please forgive me if I do this wrong. \n",
    "\n",
    "I (33f) work in a very small, technical, specific, male dominated field. I won't give too much information on it as I think you could easily find my identity if I did, but let's just say it's a sub category of law. \n",
    "\n",
    "I graduated 9 years ago (for anyone wondering, the system in my country is different than in the US so I only studied for 5 years), and am now a lawyer as well as a researcher. I published some work here and there but nothing too major, and no one outside of that field knows my work. \n",
    "\n",
    "Yesterday I went to a bar with a couple of friends who introduced me to one of their friends who works in the same field as me. I was pretty excited to meet him because it's rare to meet people who work in that field. He doesn't exactly do the same thing as I do, he's not a lawyer but a legal advisor, but we work on the same topics. So naturally we started talking about our work. \n",
    "\n",
    "At one point we were discussing a point on which we had different opinions, so I explained mine to him and he replied by saying that my opinion was based on nothing while his was based on the work of a professional (you guessed it, me). He basically started explaining my work to me, but in a completely wrong way and missed all of my points. I asked him if he was sure that that was what the author meant and he said that he was because it was \"pretty simple actually\". For another good 20 minutes he explained all of it to me in details, like I was a first year law student. I didn't say anything because it was pretty funny to watch him say things that were completely wrong with so much confidence. \n",
    "\n",
    "After that the topic changed and the night went on, but at the end of the night right before leaving I decided to tell him that I was actually the person that wrote the work he had quoted, and that he hadn't really understood it. He reacted very badly and got angry, and he told me that I had manipulated him to humiliate him. He yelled at me for not saying it was my work at the beginning. I simply replied that he had embarrassed himself and left. \n",
    "\n",
    "I woke up this morning to texts from my friends saying I was wrong for causing drama and tension and that I could've been nicer to their friend. I'm not sure if I'm in the wrong there. I mean yes, I could've told him right away, but is it that big of a deal that I didn't? I'm not exactly sure. AITA? \"\"\")"
   ]
  }
 ],
 "metadata": {
  "kernelspec": {
   "display_name": ".venv",
   "language": "python",
   "name": "python3"
  },
  "language_info": {
   "codemirror_mode": {
    "name": "ipython",
    "version": 3
   },
   "file_extension": ".py",
   "mimetype": "text/x-python",
   "name": "python",
   "nbconvert_exporter": "python",
   "pygments_lexer": "ipython3",
   "version": "3.12.4"
  }
 },
 "nbformat": 4,
 "nbformat_minor": 2
}
